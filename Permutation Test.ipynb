{
 "cells": [
  {
   "cell_type": "code",
   "execution_count": 1,
   "metadata": {},
   "outputs": [],
   "source": [
    "# https://www.plob.org/article/3176.html\n",
    "import pandas as pd\n",
    "import numpy as np\n",
    "import seaborn as sns\n",
    "import matplotlib.pyplot as plt\n",
    "import random\n",
    "from plotly.offline import init_notebook_mode, iplot\n",
    "from wordcloud import WordCloud\n",
    "import plotly.graph_objs as go\n",
    "import matplotlib.pyplot as plt\n",
    "import plotly.plotly as py\n",
    "from plotly import tools\n",
    "from datetime import date\n",
    "import pandas as pd\n",
    "import numpy as np \n",
    "import seaborn as sns\n",
    "import random \n",
    "import warnings\n",
    "warnings.filterwarnings(\"ignore\")"
   ]
  },
  {
   "cell_type": "code",
   "execution_count": 2,
   "metadata": {},
   "outputs": [
    {
     "data": {
      "text/html": [
       "<div>\n",
       "<style scoped>\n",
       "    .dataframe tbody tr th:only-of-type {\n",
       "        vertical-align: middle;\n",
       "    }\n",
       "\n",
       "    .dataframe tbody tr th {\n",
       "        vertical-align: top;\n",
       "    }\n",
       "\n",
       "    .dataframe thead th {\n",
       "        text-align: right;\n",
       "    }\n",
       "</style>\n",
       "<table border=\"1\" class=\"dataframe\">\n",
       "  <thead>\n",
       "    <tr style=\"text-align: right;\">\n",
       "      <th></th>\n",
       "      <th>姓名</th>\n",
       "      <th>账号</th>\n",
       "      <th>快司快乘</th>\n",
       "      <th>实验对照</th>\n",
       "      <th>新老客服</th>\n",
       "      <th>AHT</th>\n",
       "      <th>实验</th>\n",
       "    </tr>\n",
       "  </thead>\n",
       "  <tbody>\n",
       "    <tr>\n",
       "      <th>1</th>\n",
       "      <td>泰盈泰安-乔华</td>\n",
       "      <td>qiaohua_v</td>\n",
       "      <td>快乘</td>\n",
       "      <td>实验组</td>\n",
       "      <td>老客服</td>\n",
       "      <td>149.74374</td>\n",
       "      <td>工单摘要实验</td>\n",
       "    </tr>\n",
       "    <tr>\n",
       "      <th>3</th>\n",
       "      <td>泰盈泰安-段承府</td>\n",
       "      <td>duanchengfu_v</td>\n",
       "      <td>快乘</td>\n",
       "      <td>实验组</td>\n",
       "      <td>老客服</td>\n",
       "      <td>206.51944</td>\n",
       "      <td>工单摘要实验</td>\n",
       "    </tr>\n",
       "    <tr>\n",
       "      <th>4</th>\n",
       "      <td>泰盈泰安-马晓彤1</td>\n",
       "      <td>maxiaotong1_v</td>\n",
       "      <td>快乘</td>\n",
       "      <td>实验组</td>\n",
       "      <td>老客服</td>\n",
       "      <td>216.99074</td>\n",
       "      <td>工单摘要实验</td>\n",
       "    </tr>\n",
       "    <tr>\n",
       "      <th>7</th>\n",
       "      <td>泰盈泰安-丁宪</td>\n",
       "      <td>dingxian_v</td>\n",
       "      <td>快乘</td>\n",
       "      <td>实验组</td>\n",
       "      <td>老客服</td>\n",
       "      <td>307.57750</td>\n",
       "      <td>工单摘要实验</td>\n",
       "    </tr>\n",
       "    <tr>\n",
       "      <th>9</th>\n",
       "      <td>泰盈泰安-朱世鑫</td>\n",
       "      <td>zhushixin_v</td>\n",
       "      <td>快乘</td>\n",
       "      <td>实验组</td>\n",
       "      <td>老客服</td>\n",
       "      <td>202.31813</td>\n",
       "      <td>工单摘要实验</td>\n",
       "    </tr>\n",
       "  </tbody>\n",
       "</table>\n",
       "</div>"
      ],
      "text/plain": [
       "          姓名             账号 快司快乘 实验对照 新老客服        AHT      实验\n",
       "1    泰盈泰安-乔华      qiaohua_v   快乘  实验组  老客服  149.74374  工单摘要实验\n",
       "3   泰盈泰安-段承府  duanchengfu_v   快乘  实验组  老客服  206.51944  工单摘要实验\n",
       "4  泰盈泰安-马晓彤1  maxiaotong1_v   快乘  实验组  老客服  216.99074  工单摘要实验\n",
       "7    泰盈泰安-丁宪     dingxian_v   快乘  实验组  老客服  307.57750  工单摘要实验\n",
       "9   泰盈泰安-朱世鑫    zhushixin_v   快乘  实验组  老客服  202.31813  工单摘要实验"
      ]
     },
     "execution_count": 2,
     "metadata": {},
     "output_type": "execute_result"
    }
   ],
   "source": [
    "# data load\n",
    "raw_data = pd.read_csv('AHT - 实验汇总.csv')\n",
    "# exclude null value\n",
    "data = raw_data[pd.notnull(raw_data['AHT'])]\n",
    "data = data.ix[:,:-3]\n",
    "# take a look of the data cleaned\n",
    "data.head()"
   ]
  },
  {
   "cell_type": "code",
   "execution_count": 3,
   "metadata": {},
   "outputs": [],
   "source": [
    "# select data for headline AB test\n",
    "headline = data.query(\"实验=='第二次标题实验'\")"
   ]
  },
  {
   "cell_type": "code",
   "execution_count": 4,
   "metadata": {},
   "outputs": [],
   "source": [
    "headline['实验对照'] = headline['实验对照'].map({'实验组':'test','对照组':'ctr'})"
   ]
  },
  {
   "cell_type": "code",
   "execution_count": 5,
   "metadata": {},
   "outputs": [],
   "source": [
    "headline['新老客服'] = headline['新老客服'].map({'老客服':'old','新客服':'new'})"
   ]
  },
  {
   "cell_type": "code",
   "execution_count": 6,
   "metadata": {},
   "outputs": [
    {
     "data": {
      "text/html": [
       "<div>\n",
       "<style scoped>\n",
       "    .dataframe tbody tr th:only-of-type {\n",
       "        vertical-align: middle;\n",
       "    }\n",
       "\n",
       "    .dataframe tbody tr th {\n",
       "        vertical-align: top;\n",
       "    }\n",
       "\n",
       "    .dataframe thead th {\n",
       "        text-align: right;\n",
       "    }\n",
       "</style>\n",
       "<table border=\"1\" class=\"dataframe\">\n",
       "  <thead>\n",
       "    <tr style=\"text-align: right;\">\n",
       "      <th></th>\n",
       "      <th></th>\n",
       "      <th>AHT</th>\n",
       "      <th>姓名</th>\n",
       "    </tr>\n",
       "    <tr>\n",
       "      <th>新老客服</th>\n",
       "      <th>实验对照</th>\n",
       "      <th></th>\n",
       "      <th></th>\n",
       "    </tr>\n",
       "  </thead>\n",
       "  <tbody>\n",
       "    <tr>\n",
       "      <th rowspan=\"2\" valign=\"top\">new</th>\n",
       "      <th>ctr</th>\n",
       "      <td>254.862610</td>\n",
       "      <td>79</td>\n",
       "    </tr>\n",
       "    <tr>\n",
       "      <th>test</th>\n",
       "      <td>256.504532</td>\n",
       "      <td>78</td>\n",
       "    </tr>\n",
       "    <tr>\n",
       "      <th rowspan=\"2\" valign=\"top\">old</th>\n",
       "      <th>ctr</th>\n",
       "      <td>347.585591</td>\n",
       "      <td>57</td>\n",
       "    </tr>\n",
       "    <tr>\n",
       "      <th>test</th>\n",
       "      <td>274.445503</td>\n",
       "      <td>64</td>\n",
       "    </tr>\n",
       "  </tbody>\n",
       "</table>\n",
       "</div>"
      ],
      "text/plain": [
       "                  AHT  姓名\n",
       "新老客服 实验对照                \n",
       "new  ctr   254.862610  79\n",
       "     test  256.504532  78\n",
       "old  ctr   347.585591  57\n",
       "     test  274.445503  64"
      ]
     },
     "execution_count": 6,
     "metadata": {},
     "output_type": "execute_result"
    }
   ],
   "source": [
    "# generate a table for basic stats\n",
    "stats = headline.pivot_table(index=['新老客服','实验对照'],values=['姓名','AHT'],aggfunc={'姓名':'count','AHT':'mean'})\n",
    "stats"
   ]
  },
  {
   "cell_type": "code",
   "execution_count": 7,
   "metadata": {},
   "outputs": [
    {
     "data": {
      "text/plain": [
       "<matplotlib.axes._subplots.AxesSubplot at 0x104ad0518>"
      ]
     },
     "execution_count": 7,
     "metadata": {},
     "output_type": "execute_result"
    },
    {
     "data": {
      "image/png": "[encoded data removed]",
      "text/plain": [
       "<Figure size 432x288 with 1 Axes>"
      ]
     },
     "metadata": {},
     "output_type": "display_data"
    }
   ],
   "source": [
    "# some EDA\n",
    "headline.AHT.hist(bins=20)"
   ]
  },
  {
   "cell_type": "code",
   "execution_count": 8,
   "metadata": {},
   "outputs": [
    {
     "data": {
      "image/png": "[encoded data removed]",
      "text/plain": [
       "<Figure size 432x288 with 1 Axes>"
      ]
     },
     "metadata": {},
     "output_type": "display_data"
    }
   ],
   "source": [
    "# some EDA\n",
    "ax = sns.boxplot(x='新老客服',y='AHT',hue='实验对照',data=headline)"
   ]
  },
  {
   "cell_type": "code",
   "execution_count": 9,
   "metadata": {},
   "outputs": [
    {
     "data": {
      "image/png": "[encoded data removed]",
      "text/plain": [
       "<Figure size 432x288 with 1 Axes>"
      ]
     },
     "metadata": {},
     "output_type": "display_data"
    }
   ],
   "source": [
    "ax = headline.query(\"实验对照=='ctr' & 新老客服 == 'old'\").AHT.hist(bins=20)"
   ]
  },
  {
   "cell_type": "code",
   "execution_count": 10,
   "metadata": {},
   "outputs": [
    {
     "data": {
      "image/png": "[encoded data removed]",
      "text/plain": [
       "<Figure size 432x288 with 1 Axes>"
      ]
     },
     "metadata": {},
     "output_type": "display_data"
    }
   ],
   "source": [
    "ax = headline.query(\"实验对照=='ctr' & 新老客服 == 'new'\").AHT.hist(bins=20)"
   ]
  },
  {
   "cell_type": "code",
   "execution_count": 11,
   "metadata": {},
   "outputs": [],
   "source": [
    "summary = data.query(\"实验=='工单摘要实验'\")"
   ]
  },
  {
   "cell_type": "code",
   "execution_count": 12,
   "metadata": {},
   "outputs": [],
   "source": [
    "summary['实验对照'] = summary['实验对照'].map({'实验组':'test','对照组':'ctr'})\n",
    "summary['新老客服'] = summary['新老客服'].map({'老客服':'old','新客服':'new'})"
   ]
  },
  {
   "cell_type": "code",
   "execution_count": 13,
   "metadata": {},
   "outputs": [
    {
     "data": {
      "image/png": "[encoded data removed]",
      "text/plain": [
       "<Figure size 432x288 with 1 Axes>"
      ]
     },
     "metadata": {},
     "output_type": "display_data"
    }
   ],
   "source": [
    "ax = sns.boxplot(x='新老客服',y='AHT',hue='实验对照',data=summary)"
   ]
  },
  {
   "cell_type": "code",
   "execution_count": 14,
   "metadata": {},
   "outputs": [],
   "source": [
    "headline1 = data.query(\"实验=='第一次标题实验'\")"
   ]
  },
  {
   "cell_type": "code",
   "execution_count": 15,
   "metadata": {},
   "outputs": [],
   "source": [
    "headline1['实验对照'] = headline1['实验对照'].map({'实验组':'test','对照组':'ctr'})\n",
    "headline1['新老客服'] = headline1['新老客服'].map({'老客服':'old','新客服':'new'})"
   ]
  },
  {
   "cell_type": "code",
   "execution_count": 16,
   "metadata": {},
   "outputs": [
    {
     "data": {
      "image/png": "[encoded data removed]",
      "text/plain": [
       "<Figure size 432x288 with 1 Axes>"
      ]
     },
     "metadata": {},
     "output_type": "display_data"
    }
   ],
   "source": [
    "ax = sns.boxplot(x='新老客服',y='AHT',hue='实验对照',data=headline1)"
   ]
  },
  {
   "cell_type": "code",
   "execution_count": 17,
   "metadata": {},
   "outputs": [
    {
     "data": {
      "text/html": [
       "<div>\n",
       "<style scoped>\n",
       "    .dataframe tbody tr th:only-of-type {\n",
       "        vertical-align: middle;\n",
       "    }\n",
       "\n",
       "    .dataframe tbody tr th {\n",
       "        vertical-align: top;\n",
       "    }\n",
       "\n",
       "    .dataframe thead th {\n",
       "        text-align: right;\n",
       "    }\n",
       "</style>\n",
       "<table border=\"1\" class=\"dataframe\">\n",
       "  <thead>\n",
       "    <tr style=\"text-align: right;\">\n",
       "      <th></th>\n",
       "      <th></th>\n",
       "      <th>AHT</th>\n",
       "      <th>姓名</th>\n",
       "    </tr>\n",
       "    <tr>\n",
       "      <th>新老客服</th>\n",
       "      <th>实验对照</th>\n",
       "      <th></th>\n",
       "      <th></th>\n",
       "    </tr>\n",
       "  </thead>\n",
       "  <tbody>\n",
       "    <tr>\n",
       "      <th rowspan=\"2\" valign=\"top\">new</th>\n",
       "      <th>ctr</th>\n",
       "      <td>281.250868</td>\n",
       "      <td>38</td>\n",
       "    </tr>\n",
       "    <tr>\n",
       "      <th>test</th>\n",
       "      <td>274.592679</td>\n",
       "      <td>32</td>\n",
       "    </tr>\n",
       "    <tr>\n",
       "      <th rowspan=\"2\" valign=\"top\">old</th>\n",
       "      <th>ctr</th>\n",
       "      <td>261.479571</td>\n",
       "      <td>30</td>\n",
       "    </tr>\n",
       "    <tr>\n",
       "      <th>test</th>\n",
       "      <td>246.829082</td>\n",
       "      <td>35</td>\n",
       "    </tr>\n",
       "  </tbody>\n",
       "</table>\n",
       "</div>"
      ],
      "text/plain": [
       "                  AHT  姓名\n",
       "新老客服 实验对照                \n",
       "new  ctr   281.250868  38\n",
       "     test  274.592679  32\n",
       "old  ctr   261.479571  30\n",
       "     test  246.829082  35"
      ]
     },
     "execution_count": 17,
     "metadata": {},
     "output_type": "execute_result"
    }
   ],
   "source": [
    "stats = summary.pivot_table(index=['新老客服','实验对照'],values=['姓名','AHT'],aggfunc={'姓名':'count','AHT':'mean'})\n",
    "stats"
   ]
  },
  {
   "cell_type": "code",
   "execution_count": 18,
   "metadata": {},
   "outputs": [
    {
     "data": {
      "image/png": "[encoded data removed]",
      "text/plain": [
       "<Figure size 432x288 with 1 Axes>"
      ]
     },
     "metadata": {},
     "output_type": "display_data"
    }
   ],
   "source": [
    "ax = summary.query(\"新老客服 == 'old'\").AHT.hist(bins=20,color='red',alpha=0.5)\n",
    "ax = summary.query(\"新老客服 == 'new'\").AHT.hist(bins=20,color='green',alpha=0.5)"
   ]
  },
  {
   "cell_type": "code",
   "execution_count": 19,
   "metadata": {},
   "outputs": [
    {
     "data": {
      "text/plain": [
       "14.650488380952368"
      ]
     },
     "execution_count": 19,
     "metadata": {},
     "output_type": "execute_result"
    }
   ],
   "source": [
    "test_old = summary.query(\"实验对照 == 'test' & 新老客服 == 'old'\").AHT\n",
    "ctr_old = summary.query(\"实验对照 == 'ctr' & 新老客服 == 'old'\").AHT\n",
    "diff_old = ctr_old.mean() - test_old.mean()\n",
    "diff_old"
   ]
  },
  {
   "cell_type": "code",
   "execution_count": 20,
   "metadata": {},
   "outputs": [],
   "source": [
    "def perm_func(df,n1,n2):\n",
    "    n = n1+n2\n",
    "    idx_b = random.sample(range(n),n1)\n",
    "    idx_a = list(set(range(n)) - set(idx_b))\n",
    "    mean_diff = df.ix[idx_b]['AHT'].mean() - df.ix[idx_a]['AHT'].mean()\n",
    "    return mean_diff"
   ]
  },
  {
   "cell_type": "code",
   "execution_count": 21,
   "metadata": {},
   "outputs": [],
   "source": [
    "def perm_distribution(df,n1,n2):\n",
    "    temp = {'id':[], 'value':[]}\n",
    "    for i in range(1000):\n",
    "        cal = perm_func(df,n1,n2)\n",
    "        temp['id'].append(i)\n",
    "        temp['value'].append(cal)\n",
    "    \n",
    "    df = pd.DataFrame.from_dict(temp)\n",
    "    return df"
   ]
  },
  {
   "cell_type": "code",
   "execution_count": 22,
   "metadata": {},
   "outputs": [],
   "source": [
    "df_old = summary.query(\"新老客服 == 'old'\")\n",
    "df_old = df_old.reset_index(drop=True)\n",
    "n1 = len(ctr_old)\n",
    "n2 = len(test_old)"
   ]
  },
  {
   "cell_type": "code",
   "execution_count": 23,
   "metadata": {},
   "outputs": [],
   "source": [
    "dist_old = perm_distribution(df_old,n1,n2) "
   ]
  },
  {
   "cell_type": "code",
   "execution_count": 24,
   "metadata": {},
   "outputs": [
    {
     "data": {
      "image/png": "[encoded data removed]",
      "text/plain": [
       "<Figure size 432x288 with 1 Axes>"
      ]
     },
     "metadata": {},
     "output_type": "display_data"
    }
   ],
   "source": [
    "ax = sns.distplot(dist_old['value'])\n",
    "ax = plt.axvline(x=diff_old,c='red',alpha=0.7,linestyle='--')"
   ]
  },
  {
   "cell_type": "code",
   "execution_count": 25,
   "metadata": {},
   "outputs": [],
   "source": [
    "big = len(dist_old[dist_old['value']>14.7])"
   ]
  },
  {
   "cell_type": "code",
   "execution_count": 26,
   "metadata": {},
   "outputs": [
    {
     "data": {
      "text/plain": [
       "0.175"
      ]
     },
     "execution_count": 26,
     "metadata": {},
     "output_type": "execute_result"
    }
   ],
   "source": [
    "p = big/1000\n",
    "p"
   ]
  },
  {
   "cell_type": "code",
   "execution_count": 27,
   "metadata": {},
   "outputs": [
    {
     "data": {
      "text/plain": [
       "175"
      ]
     },
     "execution_count": 27,
     "metadata": {},
     "output_type": "execute_result"
    }
   ],
   "source": [
    "big"
   ]
  },
  {
   "cell_type": "code",
   "execution_count": 28,
   "metadata": {},
   "outputs": [
    {
     "data": {
      "text/plain": [
       "30"
      ]
     },
     "execution_count": 28,
     "metadata": {},
     "output_type": "execute_result"
    }
   ],
   "source": [
    "n1"
   ]
  },
  {
   "cell_type": "code",
   "execution_count": 29,
   "metadata": {},
   "outputs": [
    {
     "data": {
      "text/plain": [
       "35"
      ]
     },
     "execution_count": 29,
     "metadata": {},
     "output_type": "execute_result"
    }
   ],
   "source": [
    "n2"
   ]
  },
  {
   "cell_type": "code",
   "execution_count": 30,
   "metadata": {},
   "outputs": [
    {
     "data": {
      "text/plain": [
       "246.82908228571426"
      ]
     },
     "execution_count": 30,
     "metadata": {},
     "output_type": "execute_result"
    }
   ],
   "source": [
    "test_old.mean()"
   ]
  },
  {
   "cell_type": "code",
   "execution_count": 31,
   "metadata": {},
   "outputs": [
    {
     "data": {
      "text/plain": [
       "261.47957066666663"
      ]
     },
     "execution_count": 31,
     "metadata": {},
     "output_type": "execute_result"
    }
   ],
   "source": [
    "ctr_old.mean()"
   ]
  },
  {
   "cell_type": "code",
   "execution_count": 32,
   "metadata": {},
   "outputs": [
    {
     "data": {
      "text/plain": [
       "54.872794292594534"
      ]
     },
     "execution_count": 32,
     "metadata": {},
     "output_type": "execute_result"
    }
   ],
   "source": [
    "test_old.std()"
   ]
  },
  {
   "cell_type": "code",
   "execution_count": 33,
   "metadata": {},
   "outputs": [
    {
     "data": {
      "text/plain": [
       "68.07724764751593"
      ]
     },
     "execution_count": 33,
     "metadata": {},
     "output_type": "execute_result"
    }
   ],
   "source": [
    "ctr_old.std()"
   ]
  },
  {
   "cell_type": "code",
   "execution_count": 35,
   "metadata": {},
   "outputs": [],
   "source": [
    "headline.to_csv('headline.csv')"
   ]
  },
  {
   "cell_type": "code",
   "execution_count": null,
   "metadata": {},
   "outputs": [],
   "source": []
  }
 ],
 "metadata": {
  "kernelspec": {
   "display_name": "Python 3",
   "language": "python",
   "name": "python3"
  },
  "language_info": {
   "codemirror_mode": {
    "name": "ipython",
    "version": 3
   },
   "file_extension": ".py",
   "mimetype": "text/x-python",
   "name": "python",
   "nbconvert_exporter": "python",
   "pygments_lexer": "ipython3",
   "version": "3.6.5"
  }
 },
 "nbformat": 4,
 "nbformat_minor": 2
}
